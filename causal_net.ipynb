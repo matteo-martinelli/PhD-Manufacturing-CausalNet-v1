{
  "nbformat": 4,
  "nbformat_minor": 0,
  "metadata": {
    "colab": {
      "name": "causal_net.ipynb",
      "provenance": [],
      "collapsed_sections": [],
      "mount_file_id": "1ttKTicFZiOkWLE0ijLhWxAEMsnRce2HN",
      "authorship_tag": "ABX9TyPmZLjRAGbnX/ujTQU4MkI0",
      "include_colab_link": true
    },
    "kernelspec": {
      "name": "python3",
      "display_name": "Python 3"
    },
    "language_info": {
      "name": "python"
    }
  },
  "cells": [
    {
      "cell_type": "markdown",
      "metadata": {
        "id": "view-in-github",
        "colab_type": "text"
      },
      "source": [
        "<a href=\"https://colab.research.google.com/github/wmex91/PhD-Manufacturing-CausalNet-v1/blob/main/causal_net.ipynb\" target=\"_parent\"><img src=\"https://colab.research.google.com/assets/colab-badge.svg\" alt=\"Open In Colab\"/></a>"
      ]
    },
    {
      "cell_type": "code",
      "source": [
        "# Installing causalnex\n",
        "!pip install causalnex"
      ],
      "metadata": {
        "id": "riVKKb7rVSjZ"
      },
      "execution_count": null,
      "outputs": []
    },
    {
      "cell_type": "code",
      "source": [
        "# Installing Pygraphviz - NOT WORKING ON COLAB\n",
        "!pip install Pygraphviz"
      ],
      "metadata": {
        "id": "phyN6qnPVvP5"
      },
      "execution_count": null,
      "outputs": []
    },
    {
      "cell_type": "code",
      "source": [
        "# Installing paddlepaddle-gpu - BTW is not working\n",
        "!pip install paddlepaddle-gpu"
      ],
      "metadata": {
        "id": "AanJKRTa-eu-"
      },
      "execution_count": null,
      "outputs": []
    },
    {
      "cell_type": "code",
      "source": [
        "# Importing GDrive\n",
        "from google.colab import drive\n",
        "drive.mount('/content/drive')"
      ],
      "metadata": {
        "id": "LA8BN0FVUtVM"
      },
      "execution_count": null,
      "outputs": []
    },
    {
      "cell_type": "code",
      "source": [
        "%cd /content/drive/MyDrive/Colab Notebooks/My Notebooks/PhD Notebooks/Colab-Manufacturing-Model-Learning/Causal-Manufacturing-Learning-v1\n",
        "%ls\n",
        "# Alternative: /content/drive/GDrive/Colab Notebooks/My Notebooks/PhD Notebooks/Colab-Manufacturing-Model-Learning/Causal-Manufacturing-Learning-v1\n"
      ],
      "metadata": {
        "id": "9kONky0tafFW"
      },
      "execution_count": null,
      "outputs": []
    },
    {
      "cell_type": "code",
      "source": [
        "# Importing libraries\n",
        "import os\n",
        "import time\n",
        "import datetime\n",
        "import networkx\n",
        "import pandas\n",
        "from causalnex.structure.notears import from_pandas\n",
        "from causalnex.plots import plot_structure, NODE_STYLE, EDGE_STYLE\n",
        "from IPython.display import Image"
      ],
      "metadata": {
        "id": "v27BQ35ognvn"
      },
      "execution_count": 2,
      "outputs": []
    },
    {
      "cell_type": "code",
      "execution_count": 10,
      "metadata": {
        "id": "pS69MJvzGgEI",
        "colab": {
          "base_uri": "https://localhost:8080/",
          "height": 479
        },
        "outputId": "2154f638-f4fa-48f4-9fb4-23e0fd1dee9c"
      },
      "outputs": [
        {
          "output_type": "execute_result",
          "data": {
            "text/html": [
              "\n",
              "  <div id=\"df-2c6969b1-6629-4dee-9bf5-668cb8a4778c\">\n",
              "    <div class=\"colab-df-container\">\n",
              "      <div>\n",
              "<style scoped>\n",
              "    .dataframe tbody tr th:only-of-type {\n",
              "        vertical-align: middle;\n",
              "    }\n",
              "\n",
              "    .dataframe tbody tr th {\n",
              "        vertical-align: top;\n",
              "    }\n",
              "\n",
              "    .dataframe thead th {\n",
              "        text-align: right;\n",
              "    }\n",
              "</style>\n",
              "<table border=\"1\" class=\"dataframe\">\n",
              "  <thead>\n",
              "    <tr style=\"text-align: right;\">\n",
              "      <th></th>\n",
              "      <th>step</th>\n",
              "      <th>input Machine A</th>\n",
              "      <th>time process Machine A</th>\n",
              "      <th>output Machine A</th>\n",
              "      <th>produced Machine A</th>\n",
              "      <th>failure Machine A</th>\n",
              "      <th>MTTF Machine A</th>\n",
              "      <th>repair time Machine A</th>\n",
              "      <th>Machine A flag</th>\n",
              "      <th>input Machine B</th>\n",
              "      <th>time process Machine B</th>\n",
              "      <th>output Machine B</th>\n",
              "      <th>produced Machine B</th>\n",
              "      <th>failure Machine B</th>\n",
              "      <th>MTTF Machine B</th>\n",
              "      <th>repair time Machine B</th>\n",
              "      <th>Machine B flag</th>\n",
              "      <th>input Machine C</th>\n",
              "      <th>time process Machine C</th>\n",
              "      <th>output Machine C</th>\n",
              "      <th>produced Machine C</th>\n",
              "      <th>failure Machine C</th>\n",
              "      <th>MTTF Machine C</th>\n",
              "      <th>repair time Machine C</th>\n",
              "      <th>Machine C flag</th>\n",
              "    </tr>\n",
              "  </thead>\n",
              "  <tbody>\n",
              "    <tr>\n",
              "      <th>0</th>\n",
              "      <td>0.0</td>\n",
              "      <td>200</td>\n",
              "      <td>0</td>\n",
              "      <td>0</td>\n",
              "      <td>0</td>\n",
              "      <td>0</td>\n",
              "      <td>86400</td>\n",
              "      <td>0</td>\n",
              "      <td>0</td>\n",
              "      <td>200</td>\n",
              "      <td>0</td>\n",
              "      <td>0</td>\n",
              "      <td>0</td>\n",
              "      <td>0</td>\n",
              "      <td>86400</td>\n",
              "      <td>0</td>\n",
              "      <td>0</td>\n",
              "      <td>0</td>\n",
              "      <td>0</td>\n",
              "      <td>0</td>\n",
              "      <td>0</td>\n",
              "      <td>0</td>\n",
              "      <td>100800</td>\n",
              "      <td>0</td>\n",
              "      <td>0</td>\n",
              "    </tr>\n",
              "    <tr>\n",
              "      <th>1</th>\n",
              "      <td>0.1</td>\n",
              "      <td>200</td>\n",
              "      <td>0</td>\n",
              "      <td>0</td>\n",
              "      <td>0</td>\n",
              "      <td>0</td>\n",
              "      <td>86400</td>\n",
              "      <td>0</td>\n",
              "      <td>0</td>\n",
              "      <td>200</td>\n",
              "      <td>0</td>\n",
              "      <td>0</td>\n",
              "      <td>0</td>\n",
              "      <td>0</td>\n",
              "      <td>86400</td>\n",
              "      <td>0</td>\n",
              "      <td>0</td>\n",
              "      <td>0</td>\n",
              "      <td>0</td>\n",
              "      <td>0</td>\n",
              "      <td>0</td>\n",
              "      <td>0</td>\n",
              "      <td>100800</td>\n",
              "      <td>0</td>\n",
              "      <td>0</td>\n",
              "    </tr>\n",
              "    <tr>\n",
              "      <th>2</th>\n",
              "      <td>1.0</td>\n",
              "      <td>200</td>\n",
              "      <td>0</td>\n",
              "      <td>0</td>\n",
              "      <td>0</td>\n",
              "      <td>0</td>\n",
              "      <td>86400</td>\n",
              "      <td>0</td>\n",
              "      <td>0</td>\n",
              "      <td>200</td>\n",
              "      <td>0</td>\n",
              "      <td>0</td>\n",
              "      <td>0</td>\n",
              "      <td>0</td>\n",
              "      <td>86400</td>\n",
              "      <td>0</td>\n",
              "      <td>0</td>\n",
              "      <td>0</td>\n",
              "      <td>0</td>\n",
              "      <td>0</td>\n",
              "      <td>0</td>\n",
              "      <td>0</td>\n",
              "      <td>100800</td>\n",
              "      <td>0</td>\n",
              "      <td>0</td>\n",
              "    </tr>\n",
              "    <tr>\n",
              "      <th>3</th>\n",
              "      <td>1.1</td>\n",
              "      <td>200</td>\n",
              "      <td>0</td>\n",
              "      <td>0</td>\n",
              "      <td>0</td>\n",
              "      <td>0</td>\n",
              "      <td>86400</td>\n",
              "      <td>0</td>\n",
              "      <td>0</td>\n",
              "      <td>200</td>\n",
              "      <td>0</td>\n",
              "      <td>0</td>\n",
              "      <td>0</td>\n",
              "      <td>0</td>\n",
              "      <td>86400</td>\n",
              "      <td>0</td>\n",
              "      <td>0</td>\n",
              "      <td>0</td>\n",
              "      <td>0</td>\n",
              "      <td>0</td>\n",
              "      <td>0</td>\n",
              "      <td>0</td>\n",
              "      <td>100800</td>\n",
              "      <td>0</td>\n",
              "      <td>0</td>\n",
              "    </tr>\n",
              "    <tr>\n",
              "      <th>4</th>\n",
              "      <td>1.5</td>\n",
              "      <td>199</td>\n",
              "      <td>0</td>\n",
              "      <td>0</td>\n",
              "      <td>0</td>\n",
              "      <td>0</td>\n",
              "      <td>86400</td>\n",
              "      <td>0</td>\n",
              "      <td>0</td>\n",
              "      <td>199</td>\n",
              "      <td>0</td>\n",
              "      <td>0</td>\n",
              "      <td>0</td>\n",
              "      <td>0</td>\n",
              "      <td>86400</td>\n",
              "      <td>0</td>\n",
              "      <td>0</td>\n",
              "      <td>0</td>\n",
              "      <td>0</td>\n",
              "      <td>0</td>\n",
              "      <td>0</td>\n",
              "      <td>0</td>\n",
              "      <td>100800</td>\n",
              "      <td>0</td>\n",
              "      <td>0</td>\n",
              "    </tr>\n",
              "    <tr>\n",
              "      <th>5</th>\n",
              "      <td>1.6</td>\n",
              "      <td>199</td>\n",
              "      <td>261</td>\n",
              "      <td>0</td>\n",
              "      <td>0</td>\n",
              "      <td>0</td>\n",
              "      <td>86400</td>\n",
              "      <td>0</td>\n",
              "      <td>0</td>\n",
              "      <td>199</td>\n",
              "      <td>237</td>\n",
              "      <td>0</td>\n",
              "      <td>0</td>\n",
              "      <td>0</td>\n",
              "      <td>86400</td>\n",
              "      <td>0</td>\n",
              "      <td>0</td>\n",
              "      <td>0</td>\n",
              "      <td>0</td>\n",
              "      <td>0</td>\n",
              "      <td>0</td>\n",
              "      <td>0</td>\n",
              "      <td>100800</td>\n",
              "      <td>0</td>\n",
              "      <td>0</td>\n",
              "    </tr>\n",
              "    <tr>\n",
              "      <th>6</th>\n",
              "      <td>2.0</td>\n",
              "      <td>199</td>\n",
              "      <td>261</td>\n",
              "      <td>0</td>\n",
              "      <td>0</td>\n",
              "      <td>0</td>\n",
              "      <td>86400</td>\n",
              "      <td>0</td>\n",
              "      <td>0</td>\n",
              "      <td>199</td>\n",
              "      <td>237</td>\n",
              "      <td>0</td>\n",
              "      <td>0</td>\n",
              "      <td>0</td>\n",
              "      <td>86400</td>\n",
              "      <td>0</td>\n",
              "      <td>0</td>\n",
              "      <td>0</td>\n",
              "      <td>0</td>\n",
              "      <td>0</td>\n",
              "      <td>0</td>\n",
              "      <td>0</td>\n",
              "      <td>100800</td>\n",
              "      <td>0</td>\n",
              "      <td>0</td>\n",
              "    </tr>\n",
              "    <tr>\n",
              "      <th>7</th>\n",
              "      <td>2.1</td>\n",
              "      <td>199</td>\n",
              "      <td>261</td>\n",
              "      <td>0</td>\n",
              "      <td>0</td>\n",
              "      <td>0</td>\n",
              "      <td>86400</td>\n",
              "      <td>0</td>\n",
              "      <td>0</td>\n",
              "      <td>199</td>\n",
              "      <td>237</td>\n",
              "      <td>0</td>\n",
              "      <td>0</td>\n",
              "      <td>0</td>\n",
              "      <td>86400</td>\n",
              "      <td>0</td>\n",
              "      <td>0</td>\n",
              "      <td>0</td>\n",
              "      <td>0</td>\n",
              "      <td>0</td>\n",
              "      <td>0</td>\n",
              "      <td>0</td>\n",
              "      <td>100800</td>\n",
              "      <td>0</td>\n",
              "      <td>0</td>\n",
              "    </tr>\n",
              "    <tr>\n",
              "      <th>8</th>\n",
              "      <td>3.0</td>\n",
              "      <td>199</td>\n",
              "      <td>261</td>\n",
              "      <td>0</td>\n",
              "      <td>0</td>\n",
              "      <td>0</td>\n",
              "      <td>86400</td>\n",
              "      <td>0</td>\n",
              "      <td>0</td>\n",
              "      <td>199</td>\n",
              "      <td>237</td>\n",
              "      <td>0</td>\n",
              "      <td>0</td>\n",
              "      <td>0</td>\n",
              "      <td>86400</td>\n",
              "      <td>0</td>\n",
              "      <td>0</td>\n",
              "      <td>0</td>\n",
              "      <td>0</td>\n",
              "      <td>0</td>\n",
              "      <td>0</td>\n",
              "      <td>0</td>\n",
              "      <td>100800</td>\n",
              "      <td>0</td>\n",
              "      <td>0</td>\n",
              "    </tr>\n",
              "    <tr>\n",
              "      <th>9</th>\n",
              "      <td>3.1</td>\n",
              "      <td>199</td>\n",
              "      <td>261</td>\n",
              "      <td>0</td>\n",
              "      <td>0</td>\n",
              "      <td>0</td>\n",
              "      <td>86400</td>\n",
              "      <td>0</td>\n",
              "      <td>0</td>\n",
              "      <td>199</td>\n",
              "      <td>237</td>\n",
              "      <td>0</td>\n",
              "      <td>0</td>\n",
              "      <td>0</td>\n",
              "      <td>86400</td>\n",
              "      <td>0</td>\n",
              "      <td>0</td>\n",
              "      <td>0</td>\n",
              "      <td>0</td>\n",
              "      <td>0</td>\n",
              "      <td>0</td>\n",
              "      <td>0</td>\n",
              "      <td>100800</td>\n",
              "      <td>0</td>\n",
              "      <td>0</td>\n",
              "    </tr>\n",
              "  </tbody>\n",
              "</table>\n",
              "</div>\n",
              "      <button class=\"colab-df-convert\" onclick=\"convertToInteractive('df-2c6969b1-6629-4dee-9bf5-668cb8a4778c')\"\n",
              "              title=\"Convert this dataframe to an interactive table.\"\n",
              "              style=\"display:none;\">\n",
              "        \n",
              "  <svg xmlns=\"http://www.w3.org/2000/svg\" height=\"24px\"viewBox=\"0 0 24 24\"\n",
              "       width=\"24px\">\n",
              "    <path d=\"M0 0h24v24H0V0z\" fill=\"none\"/>\n",
              "    <path d=\"M18.56 5.44l.94 2.06.94-2.06 2.06-.94-2.06-.94-.94-2.06-.94 2.06-2.06.94zm-11 1L8.5 8.5l.94-2.06 2.06-.94-2.06-.94L8.5 2.5l-.94 2.06-2.06.94zm10 10l.94 2.06.94-2.06 2.06-.94-2.06-.94-.94-2.06-.94 2.06-2.06.94z\"/><path d=\"M17.41 7.96l-1.37-1.37c-.4-.4-.92-.59-1.43-.59-.52 0-1.04.2-1.43.59L10.3 9.45l-7.72 7.72c-.78.78-.78 2.05 0 2.83L4 21.41c.39.39.9.59 1.41.59.51 0 1.02-.2 1.41-.59l7.78-7.78 2.81-2.81c.8-.78.8-2.07 0-2.86zM5.41 20L4 18.59l7.72-7.72 1.47 1.35L5.41 20z\"/>\n",
              "  </svg>\n",
              "      </button>\n",
              "      \n",
              "  <style>\n",
              "    .colab-df-container {\n",
              "      display:flex;\n",
              "      flex-wrap:wrap;\n",
              "      gap: 12px;\n",
              "    }\n",
              "\n",
              "    .colab-df-convert {\n",
              "      background-color: #E8F0FE;\n",
              "      border: none;\n",
              "      border-radius: 50%;\n",
              "      cursor: pointer;\n",
              "      display: none;\n",
              "      fill: #1967D2;\n",
              "      height: 32px;\n",
              "      padding: 0 0 0 0;\n",
              "      width: 32px;\n",
              "    }\n",
              "\n",
              "    .colab-df-convert:hover {\n",
              "      background-color: #E2EBFA;\n",
              "      box-shadow: 0px 1px 2px rgba(60, 64, 67, 0.3), 0px 1px 3px 1px rgba(60, 64, 67, 0.15);\n",
              "      fill: #174EA6;\n",
              "    }\n",
              "\n",
              "    [theme=dark] .colab-df-convert {\n",
              "      background-color: #3B4455;\n",
              "      fill: #D2E3FC;\n",
              "    }\n",
              "\n",
              "    [theme=dark] .colab-df-convert:hover {\n",
              "      background-color: #434B5C;\n",
              "      box-shadow: 0px 1px 3px 1px rgba(0, 0, 0, 0.15);\n",
              "      filter: drop-shadow(0px 1px 2px rgba(0, 0, 0, 0.3));\n",
              "      fill: #FFFFFF;\n",
              "    }\n",
              "  </style>\n",
              "\n",
              "      <script>\n",
              "        const buttonEl =\n",
              "          document.querySelector('#df-2c6969b1-6629-4dee-9bf5-668cb8a4778c button.colab-df-convert');\n",
              "        buttonEl.style.display =\n",
              "          google.colab.kernel.accessAllowed ? 'block' : 'none';\n",
              "\n",
              "        async function convertToInteractive(key) {\n",
              "          const element = document.querySelector('#df-2c6969b1-6629-4dee-9bf5-668cb8a4778c');\n",
              "          const dataTable =\n",
              "            await google.colab.kernel.invokeFunction('convertToInteractive',\n",
              "                                                     [key], {});\n",
              "          if (!dataTable) return;\n",
              "\n",
              "          const docLinkHtml = 'Like what you see? Visit the ' +\n",
              "            '<a target=\"_blank\" href=https://colab.research.google.com/notebooks/data_table.ipynb>data table notebook</a>'\n",
              "            + ' to learn more about interactive tables.';\n",
              "          element.innerHTML = '';\n",
              "          dataTable['output_type'] = 'display_data';\n",
              "          await google.colab.output.renderOutput(dataTable, element);\n",
              "          const docLink = document.createElement('div');\n",
              "          docLink.innerHTML = docLinkHtml;\n",
              "          element.appendChild(docLink);\n",
              "        }\n",
              "      </script>\n",
              "    </div>\n",
              "  </div>\n",
              "  "
            ],
            "text/plain": [
              "   step  input Machine A  ...  repair time Machine C  Machine C flag\n",
              "0   0.0              200  ...                      0               0\n",
              "1   0.1              200  ...                      0               0\n",
              "2   1.0              200  ...                      0               0\n",
              "3   1.1              200  ...                      0               0\n",
              "4   1.5              199  ...                      0               0\n",
              "5   1.6              199  ...                      0               0\n",
              "6   2.0              199  ...                      0               0\n",
              "7   2.1              199  ...                      0               0\n",
              "8   3.0              199  ...                      0               0\n",
              "9   3.1              199  ...                      0               0\n",
              "\n",
              "[10 rows x 25 columns]"
            ]
          },
          "metadata": {},
          "execution_count": 10
        }
      ],
      "source": [
        "# Preparing the data set\n",
        "# Setting the csv path \n",
        "CSV_PATH = '/content/drive/MyDrive/Colab Notebooks/My Notebooks/PhD Notebooks/'\\\n",
        "'Colab-Manufacturing-Model-Learning/Causal-Manufacturing-Learning-v1/dataset/' \\\n",
        "'2022.02.23-11.55-log/merged_logs.csv'\n",
        "\n",
        "\n",
        "# Getting the dataframe from the file\n",
        "data = pandas.read_csv(CSV_PATH, delimiter=',')\n",
        "\n",
        "data.head(10)"
      ]
    },
    {
      "cell_type": "code",
      "source": [
        "print(data.dtypes)\n",
        "print(data.columns)"
      ],
      "metadata": {
        "id": "TKILqJSU-VKT"
      },
      "execution_count": null,
      "outputs": []
    },
    {
      "cell_type": "code",
      "source": [
        "# Splitting the \"step\" column into \"step\" and \"moment\" in 3 steps:\n",
        "# 1. Converting the step col into string type\n",
        "data['step_str'] = data['step'].astype(str)\n",
        "data.dtypes"
      ],
      "metadata": {
        "id": "jVEwSKrx8r8j",
        "colab": {
          "base_uri": "https://localhost:8080/"
        },
        "outputId": "e3b461b6-575e-45ae-b70c-ecd4fb25d9f6"
      },
      "execution_count": 11,
      "outputs": [
        {
          "output_type": "execute_result",
          "data": {
            "text/plain": [
              "step                      float64\n",
              "input Machine A             int64\n",
              "time process Machine A      int64\n",
              "output Machine A            int64\n",
              "produced Machine A          int64\n",
              "failure Machine A           int64\n",
              "MTTF Machine A              int64\n",
              "repair time Machine A       int64\n",
              "Machine A flag              int64\n",
              "input Machine B             int64\n",
              "time process Machine B      int64\n",
              "output Machine B            int64\n",
              "produced Machine B          int64\n",
              "failure Machine B           int64\n",
              "MTTF Machine B              int64\n",
              "repair time Machine B       int64\n",
              "Machine B flag              int64\n",
              "input Machine C             int64\n",
              "time process Machine C      int64\n",
              "output Machine C            int64\n",
              "produced Machine C          int64\n",
              "failure Machine C           int64\n",
              "MTTF Machine C              int64\n",
              "repair time Machine C       int64\n",
              "Machine C flag              int64\n",
              "step_str                   object\n",
              "dtype: object"
            ]
          },
          "metadata": {},
          "execution_count": 11
        }
      ]
    },
    {
      "cell_type": "code",
      "source": [
        "# Splitting the \"step\" column into \"step\" and \"moment\" in 3 steps:\n",
        "# 1. Converting the step col into string type\n",
        "data[\"step_str\"] = data[\"step\"].astype(str)\n",
        "# 2. Using str.split to split the col at the \".\"\n",
        "data[[\"step\", \"moment\"]] = data.step_str.str.split(\".\", expand = True)\n",
        "# 3. Dropping the temp col\n",
        "data.drop(columns=[\"step_str\"], inplace=True)\n",
        "\n",
        "# Reordering the result\n",
        "data = data[[\"step\", \"moment\", \"failure Machine A\", \"Machine A flag\", \n",
        "      \"failure Machine B\",  \"Machine B flag\", \"failure Machine C\", \n",
        "      \"Machine C flag\"]]\n",
        "\n",
        "# Converting everything in int \n",
        "data = data.astype(int)\n",
        "\n",
        "print(data)"
      ],
      "metadata": {
        "id": "-d1Ug0CA8jAA",
        "colab": {
          "base_uri": "https://localhost:8080/"
        },
        "outputId": "cd9ff82d-bead-4027-aad5-66b0637c3b9e"
      },
      "execution_count": 12,
      "outputs": [
        {
          "output_type": "stream",
          "name": "stdout",
          "text": [
            "            step  moment  ...  failure Machine C  Machine C flag\n",
            "0              0       0  ...                  0               0\n",
            "1              0       1  ...                  0               0\n",
            "2              1       0  ...                  0               0\n",
            "3              1       1  ...                  0               0\n",
            "4              1       5  ...                  0               0\n",
            "...          ...     ...  ...                ...             ...\n",
            "1271874  1036795       0  ...                  0               0\n",
            "1271875  1036796       0  ...                  0               0\n",
            "1271876  1036797       0  ...                  0               0\n",
            "1271877  1036798       0  ...                  0               0\n",
            "1271878  1036799       0  ...                  0               0\n",
            "\n",
            "[1271879 rows x 8 columns]\n"
          ]
        }
      ]
    },
    {
      "cell_type": "code",
      "source": [
        "# Dropping the unneccessary columns\n",
        "data.drop(columns=[\"step\", \"moment\"], inplace=True)\n",
        "print(data)"
      ],
      "metadata": {
        "colab": {
          "base_uri": "https://localhost:8080/"
        },
        "id": "NHQYEOymRd7t",
        "outputId": "8943a8e7-58bf-4ef0-c8de-133df18baa79"
      },
      "execution_count": 13,
      "outputs": [
        {
          "output_type": "stream",
          "name": "stdout",
          "text": [
            "         failure Machine A  Machine A flag  ...  failure Machine C  Machine C flag\n",
            "0                        0               0  ...                  0               0\n",
            "1                        0               0  ...                  0               0\n",
            "2                        0               0  ...                  0               0\n",
            "3                        0               0  ...                  0               0\n",
            "4                        0               0  ...                  0               0\n",
            "...                    ...             ...  ...                ...             ...\n",
            "1271874                  0               0  ...                  0               0\n",
            "1271875                  0               0  ...                  0               0\n",
            "1271876                  0               0  ...                  0               0\n",
            "1271877                  0               0  ...                  0               0\n",
            "1271878                  0               0  ...                  0               0\n",
            "\n",
            "[1271879 rows x 6 columns]\n"
          ]
        }
      ]
    },
    {
      "cell_type": "code",
      "source": [
        "# Dropping the unneccessary columns - DEPRECATO COL NUOVO IMPLEMENT\n",
        "data.drop(columns=[\"step\", \"moment\", \"input Machine A\", \"time process Machine A\", \n",
        "                   \"output Machine A\", \"produced_x\", \"MTTF Machine A\", \n",
        "                   \"repair time Machine A\"], inplace=True)\n",
        "\n",
        "data.drop(columns=[\"step\", \"moment\", \"input Machine B\", \"time process Machine B\", \n",
        "                   \"output Machine B\", \"produced_y\", \"MTTF Machine B\", \n",
        "                   \"repair time Machine B\"], inplace=True)\n",
        "\n",
        "data.drop(columns=[\"step\", \"moment\", \"input Machine C\", \"time process Machine C\", \n",
        "                   \"output Machine C\", \"produced\", \"MTTF Machine C\", \n",
        "                   \"repair time Machine C\"], inplace=True)\n",
        "\n",
        "# Printing the head\n",
        "print(data)"
      ],
      "metadata": {
        "id": "O6QFbJWVRDso"
      },
      "execution_count": null,
      "outputs": []
    },
    {
      "cell_type": "code",
      "source": [
        "# Saving the light dataset into csv\n",
        "LIGHT_CSV_PATH = '/content/drive/MyDrive/Colab Notebooks/My Notebooks/' \\\n",
        "'PhD Notebooks/Colab-Manufacturing-Model-Learning/' \\\n",
        "'Causal-Manufacturing-Learning-v1/dataset/2022.02.23-11.55-log/'\\\n",
        "'light-logs.csv'\n",
        "\n",
        "data.to_csv(LIGHT_CSV_PATH)"
      ],
      "metadata": {
        "id": "aSbLiXfwpFEP"
      },
      "execution_count": 14,
      "outputs": []
    },
    {
      "cell_type": "code",
      "source": [
        "# Getting tabu child nodes\n",
        "tabu_child_list = [x for x in data.columns if 'failure' in x]\n",
        "\n",
        "print('Tabu child list: ', tabu_child_list)\n",
        "\n",
        "# Training the model\n",
        "# Declaring and mining the structure of the causal-net\n",
        "start_time = time.time()\n",
        "structure_model = from_pandas(data)\n",
        "finish_time = time.time()\n",
        "sim_time = finish_time - start_time\n",
        "\n",
        "# Printing the structure model with Python\n",
        "print(\"Total training time: {} min, {} secs\".format(round(sim_time/60, 0), \n",
        "                                                    round(sim_time%60, 2)))\n",
        "# print(\"Total training time: {} seconds\".format(round(sim_time, 2)/60))\n",
        "print(structure_model)"
      ],
      "metadata": {
        "id": "4sLr0Z9pmkvf",
        "colab": {
          "base_uri": "https://localhost:8080/"
        },
        "outputId": "ee835fa7-c631-4f5f-86f9-5b30dabf1f27"
      },
      "execution_count": 32,
      "outputs": [
        {
          "output_type": "stream",
          "name": "stdout",
          "text": [
            "Tabu child list:  ['failure Machine A', 'failure Machine B', 'failure Machine C']\n",
            "Total training time: 6.0 min, 1.41 secs\n",
            "StructureModel with 6 nodes and 30 edges\n"
          ]
        }
      ]
    },
    {
      "cell_type": "code",
      "source": [
        "# Printing the structure model with networkx\n",
        "networkx.draw(structure_model, with_labels=True)"
      ],
      "metadata": {
        "colab": {
          "base_uri": "https://localhost:8080/",
          "height": 319
        },
        "id": "N2qwPglboYKw",
        "outputId": "c1a5218d-e0e7-46ad-b5a7-c6371374f46c"
      },
      "execution_count": 33,
      "outputs": [
        {
          "output_type": "display_data",
          "data": {
            "image/png": "[encoded data removed]",
            "text/plain": [
              "<Figure size 432x288 with 1 Axes>"
            ]
          },
          "metadata": {}
        }
      ]
    },
    {
      "cell_type": "code",
      "source": [
        "# Che fa? boooh - SALTA\n",
        "# networkx.drawing.nx_pydot.write_dot(structure_model, 'graph.dot')"
      ],
      "metadata": {
        "id": "LxwaY-2eMYtK"
      },
      "execution_count": null,
      "outputs": []
    },
    {
      "cell_type": "code",
      "source": [
        "pruned_model = structure_model\n",
        "pruned_model.remove_edges_below_threshold(1)\n",
        "print(pruned_model)\n",
        "# Printing the structure model again\n",
        "networkx.draw(pruned_model, with_labels=True)"
      ],
      "metadata": {
        "colab": {
          "base_uri": "https://localhost:8080/",
          "height": 336
        },
        "id": "yWlktXteDH7S",
        "outputId": "faf3c821-5ec0-4f66-eaa7-3b43cdcdb26a"
      },
      "execution_count": 44,
      "outputs": [
        {
          "output_type": "stream",
          "name": "stdout",
          "text": [
            "StructureModel with 6 nodes and 0 edges\n"
          ]
        },
        {
          "output_type": "display_data",
          "data": {
            "image/png": "[encoded data removed]",
            "text/plain": [
              "<Figure size 432x288 with 1 Axes>"
            ]
          },
          "metadata": {}
        }
      ]
    },
    {
      "cell_type": "code",
      "source": [
        "structure_model.edges(data = 'weight')"
      ],
      "metadata": {
        "colab": {
          "base_uri": "https://localhost:8080/"
        },
        "id": "_Fh0XpKKBMR1",
        "outputId": "0693d550-8b29-40c9-8e13-2864c7c375f8"
      },
      "execution_count": null,
      "outputs": [
        {
          "output_type": "execute_result",
          "data": {
            "text/plain": [
              "OutEdgeDataView([('failure Machine A', 'Machine A flag', 2.7715694218996015e-05), ('failure Machine A', 'failure Machine B', 0.00020922468593406835), ('failure Machine A', 'Machine B flag', 0.001953806689328719), ('failure Machine A', 'failure Machine C', 1.2049577208074912e-09), ('failure Machine A', 'Machine C flag', 2.7317863199992057e-07), ('Machine A flag', 'failure Machine A', 0.9508586072009347), ('Machine A flag', 'failure Machine B', 0.00012052221996857689), ('Machine A flag', 'Machine B flag', 0.0008195288437936076), ('Machine A flag', 'failure Machine C', 1.4647760694649468e-07), ('Machine A flag', 'Machine C flag', 2.0822863219248003e-05), ('failure Machine B', 'failure Machine A', 0.005051513331800862), ('failure Machine B', 'Machine A flag', 0.06015708949189389), ('failure Machine B', 'Machine B flag', 2.0604316371111073e-05), ('failure Machine B', 'failure Machine C', -4.715912856297664e-11), ('failure Machine B', 'Machine C flag', 2.470505479252935e-05), ('Machine B flag', 'failure Machine A', -0.004498343084608299), ('Machine B flag', 'Machine A flag', 0.024431985820720578), ('Machine B flag', 'failure Machine B', 0.9558822507873747), ('Machine B flag', 'failure Machine C', -6.069353642057767e-11), ('Machine B flag', 'Machine C flag', 1.2335232870341123e-05), ('failure Machine C', 'failure Machine A', -0.0010717714995835854), ('failure Machine C', 'Machine A flag', 0.06823907244138609), ('failure Machine C', 'failure Machine B', -0.01941930415784446), ('failure Machine C', 'Machine B flag', -0.7810722896000568), ('failure Machine C', 'Machine C flag', 0.8573220480253914), ('Machine C flag', 'failure Machine A', -0.00039095418808399423), ('Machine C flag', 'Machine A flag', -0.0747184415279908), ('Machine C flag', 'failure Machine B', 0.018797045163380693), ('Machine C flag', 'Machine B flag', 0.9186943551800533), ('Machine C flag', 'failure Machine C', 1.8597500835369618e-06)])"
            ]
          },
          "metadata": {},
          "execution_count": 92
        }
      ]
    }
  ]
}